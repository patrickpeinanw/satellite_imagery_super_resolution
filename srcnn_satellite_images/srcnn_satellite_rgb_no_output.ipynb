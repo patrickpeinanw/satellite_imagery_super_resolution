{
 "cells": [
  {
   "cell_type": "code",
   "execution_count": 1,
   "id": "132264cb-c096-4d9c-8d4f-c0274115bb5c",
   "metadata": {},
   "outputs": [
    {
     "name": "stdout",
     "output_type": "stream",
     "text": [
      "2.13.0\n",
      "Num GPUs Available:  1\n"
     ]
    }
   ],
   "source": [
    "import os\n",
    "os.environ['TF_USE_LEGACY_KERAS'] = 'True'\n",
    "import re \n",
    "from scipy import ndimage, misc \n",
    "from tqdm import tqdm\n",
    "\n",
    "from skimage.transform import resize, rescale\n",
    "import numpy as np\n",
    "import pandas as pd\n",
    "import matplotlib.pyplot as plt\n",
    "\n",
    "np.random.seed(0)\n",
    "import cv2\n",
    "import rasterio\n",
    "import tensorflow as tf\n",
    "from tensorflow.keras.layers import Input, Dense ,Conv2D,MaxPooling2D ,Dropout\n",
    "from tensorflow.keras.layers import Conv2DTranspose, UpSampling2D, add\n",
    "from tensorflow.keras.models import Model\n",
    "from tensorflow.keras import regularizers\n",
    "from tensorflow.keras.utils import plot_model\n",
    "from tensorflow.keras.preprocessing.image import img_to_array, load_img\n",
    "\n",
    "print(tf.__version__)\n",
    "\n",
    "# Verify that TensorFlow can access the GPU\n",
    "print(\"Num GPUs Available: \", len(tf.config.list_physical_devices('GPU')))"
   ]
  },
  {
   "cell_type": "markdown",
   "id": "bc6ed809-17c9-4d44-afa7-d6007cfa53fb",
   "metadata": {},
   "source": [
    "### Load Raw Data\n",
    "\n",
    "read low resolution images and high resolution images into RGB values."
   ]
  },
  {
   "cell_type": "code",
   "execution_count": 2,
   "id": "17adc10f-c0b8-4c7a-848c-adf6bdf75580",
   "metadata": {},
   "outputs": [],
   "source": [
    "hr_dataset_path = 'dataset/hr_dataset'\n",
    "lr_dataset_path = 'dataset/lr_dataset'\n",
    "hr_data = [d for d in os.listdir(hr_dataset_path) if os.path.isdir(os.path.join(lr_dataset_path, d))]\n",
    "lr_data = [d for d in os.listdir(lr_dataset_path) if os.path.isdir(os.path.join(lr_dataset_path, d))]"
   ]
  },
  {
   "cell_type": "code",
   "execution_count": 3,
   "id": "dc7c9fd9-9b3c-495f-b118-209928f04c82",
   "metadata": {},
   "outputs": [
    {
     "name": "stdout",
     "output_type": "stream",
     "text": [
      "Number of folders in 'dataset/hr_dataset': 3927\n",
      "Number of folders in 'dataset/lr_dataset': 3927\n"
     ]
    }
   ],
   "source": [
    "print(f\"Number of folders in '{hr_dataset_path}': {len(hr_data)}\")\n",
    "print(f\"Number of folders in '{lr_dataset_path}': {len(lr_data)}\")"
   ]
  },
  {
   "cell_type": "code",
   "execution_count": 4,
   "id": "79f5d6a4-a4bb-4cd4-a244-5f9eb0b6274b",
   "metadata": {},
   "outputs": [],
   "source": [
    "def load_lr_images(aoi_base_name, num_revisits):\n",
    "    \"\"\"\n",
    "    Load low-resolution images from the dataset using rasterio.\n",
    "\n",
    "    Args:\n",
    "    - aoi_base_name: Base name of the AOI folder.\n",
    "    - num_revisits: Number of low-resolution images needed.\n",
    "\n",
    "    Returns:\n",
    "    - List of loaded images.\n",
    "    \"\"\"\n",
    "    images = []\n",
    "    for i in range(1, num_revisits+1):\n",
    "        # lr_image_path = os.path.join('dataset/lr_dataset', aoi_base_name, 'L2A', f\"{aoi_base_name}-{i}-L2A_data.TIFF\")\n",
    "        lr_image_path = os.path.join('dataset/lr_dataset', aoi_base_name, 'L1C', f\"{aoi_base_name}-{i}-L1C_data.TIFF\")\n",
    "        if os.path.isfile(lr_image_path):\n",
    "            try:\n",
    "                with rasterio.open(lr_image_path) as src:\n",
    "                    image = src.read([4, 3, 2])  # Read RGB channels if available\n",
    "                    image = np.moveaxis(image, 0, -1)  # Convert to HWC format\n",
    "                    images.append(image)\n",
    "            except Exception as e:\n",
    "                print(f\"Warning: Failed to read image {lr_image_path} with error {e}\")\n",
    "        else:\n",
    "            print(f\"Warning: Low-resolution image path {lr_image_path} does not exist\")\n",
    "    return images\n",
    "\n",
    "def load_hr_images(aoi):\n",
    "    \"\"\"\n",
    "    Load high-resolution images from the dataset.\n",
    "\n",
    "    Args:\n",
    "    - aoi: Name of the AOI folder.\n",
    "\n",
    "    Returns:\n",
    "    - List of loaded images.\n",
    "    \"\"\"\n",
    "    images = []\n",
    "    hr_image_path = os.path.join('dataset/hr_dataset', aoi, f\"{aoi}_ps.TIFF\")\n",
    "    if os.path.isfile(hr_image_path):\n",
    "        try:\n",
    "            with rasterio.open(hr_image_path) as src:\n",
    "                image = src.read([1, 2, 3])  # Read RGB channels if available\n",
    "                image = np.moveaxis(image, 0, -1)  # Convert to HWC format\n",
    "                images.append(image)\n",
    "        except Exception as e:\n",
    "            print(f\"Warning: Failed to read image {hr_image_path} with error {e}\")\n",
    "    else:\n",
    "        print(f\"Warning: Low-resolution image path {hr_image_path} does not exist\")\n",
    "    return images\n",
    "\n",
    "def preprocess_image(image, target_size):\n",
    "    \"\"\"\n",
    "    Preprocess the image for SRCNN.\n",
    "\n",
    "    Args:\n",
    "    - image: Input image.\n",
    "    - target_size: Tuple of target size (width, height).\n",
    "\n",
    "    Returns:\n",
    "    - Preprocessed image.\n",
    "    \"\"\"\n",
    "    image = cv2.resize(image, target_size)\n",
    "    if np.max(image) != 0:\n",
    "        image = image / np.max(image)\n",
    "    \n",
    "    return image\n",
    "\n",
    "def process_aois(aoi_names, target_size_hr, target_size_lr, num_revisits):\n",
    "    \"\"\"\n",
    "    Load and preprocess images for multiple AOIs.\n",
    "\n",
    "    Args:\n",
    "    - aoi_names: List of AOI base names.\n",
    "    - target_size_hr: Tuple of target size (width, height) for high-resolution images.\n",
    "    - target_size_lr: Tuple of target size (width, height) for low-resolution images.\n",
    "    - num_revisits: Number of low-resolution images needed.\n",
    "\n",
    "    Returns:\n",
    "    - Dictionary with AOI names as keys and tuple of (LR images, HR images) as values.\n",
    "    \"\"\"\n",
    "    data = {}\n",
    "    for aoi_base_name in aoi_names:\n",
    "        print(f\"Processing AOI: {aoi_base_name}\")\n",
    "        lr_images = load_lr_images(aoi_base_name, num_revisits)\n",
    "        hr_images = load_hr_images(aoi_base_name)\n",
    "\n",
    "        # Preprocess images\n",
    "        lr_images = [preprocess_image(img, target_size_lr) for img in lr_images]\n",
    "        hr_images = [preprocess_image(img, target_size_hr) for img in hr_images]\n",
    "        \n",
    "        # Convert lists to numpy arrays\n",
    "        lr_images = np.array(lr_images)\n",
    "        hr_images = np.array(hr_images)\n",
    "        \n",
    "        data[aoi_base_name] = (lr_images, hr_images)\n",
    "        #print(f\"Low-resolution images shape for {aoi_base_name}: {lr_images.shape}\")\n",
    "        print(f\"High-resolution images shape for {aoi_base_name}: {hr_images.shape}\")\n",
    "    \n",
    "    return data"
   ]
  },
  {
   "cell_type": "code",
   "execution_count": 5,
   "id": "28d4d44c-0d69-494a-9242-38efbc86500d",
   "metadata": {},
   "outputs": [
    {
     "name": "stdout",
     "output_type": "stream",
     "text": [
      "Processing AOI: Amnesty POI-1-1-1\n",
      "High-resolution images shape for Amnesty POI-1-1-1: (1, 500, 500, 3)\n",
      "Processing AOI: Amnesty POI-1-1-2\n",
      "High-resolution images shape for Amnesty POI-1-1-2: (1, 500, 500, 3)\n"
     ]
    },
    {
     "name": "stderr",
     "output_type": "stream",
     "text": [
      "/Users/peinanwang/CS6140_Project/satellite_imagery_super_resolution/srcnn_satellite_images/.venv/lib/python3.8/site-packages/rasterio/__init__.py:304: NotGeoreferencedWarning: Dataset has no geotransform, gcps, or rpcs. The identity matrix will be returned.\n",
      "  dataset = DatasetReader(path, driver=driver, sharing=sharing, **kwargs)\n"
     ]
    }
   ],
   "source": [
    "# Example usage\n",
    "aoi_names = ['Amnesty POI-1-1-1', 'Amnesty POI-1-1-2'] # list of selected AOIs\n",
    "target_size_hr = (500, 500)  # assuming the target size for SRCNN is (500, 500)\n",
    "target_size_lr = (160, 160)\n",
    "num_revisits = 1 # 1-16\n",
    "\n",
    "aois_data = process_aois(aoi_names, target_size_hr, target_size_lr, num_revisits)"
   ]
  },
  {
   "cell_type": "code",
   "execution_count": 6,
   "id": "0748941b-3078-422e-a9a0-d9c355e2b336",
   "metadata": {},
   "outputs": [
    {
     "data": {
      "text/plain": [
       "(1, 160, 160, 3)"
      ]
     },
     "execution_count": 6,
     "metadata": {},
     "output_type": "execute_result"
    }
   ],
   "source": [
    "aois_data['Amnesty POI-1-1-1'][0].shape"
   ]
  },
  {
   "cell_type": "code",
   "execution_count": 7,
   "id": "43bc043a-3bff-417b-b5e1-b6c2216d941e",
   "metadata": {},
   "outputs": [
    {
     "data": {
      "text/plain": [
       "(1, 500, 500, 3)"
      ]
     },
     "execution_count": 7,
     "metadata": {},
     "output_type": "execute_result"
    }
   ],
   "source": [
    "aois_data['Amnesty POI-1-1-1'][1].shape"
   ]
  },
  {
   "cell_type": "code",
   "execution_count": null,
   "id": "ce49d714",
   "metadata": {
    "scrolled": true
   },
   "outputs": [],
   "source": [
    "aois_data['Amnesty POI-1-1-1'][0]"
   ]
  },
  {
   "cell_type": "code",
   "execution_count": null,
   "id": "877e686a-0b97-48ba-8a37-7f1d409d5dc4",
   "metadata": {},
   "outputs": [],
   "source": [
    "plt.figure(figsize=(10,10))\n",
    "plt.imshow(aois_data['Amnesty POI-1-1-2'][0][0])"
   ]
  },
  {
   "cell_type": "code",
   "execution_count": null,
   "id": "2bedfba2-73ce-489c-b046-3f5e9a4dad64",
   "metadata": {},
   "outputs": [],
   "source": [
    "plt.figure(figsize=(10,10))\n",
    "plt.imshow(aois_data['Amnesty POI-1-1-2'][1][0])"
   ]
  },
  {
   "cell_type": "markdown",
   "id": "4cc4f732-1742-4838-987e-528ce6e43590",
   "metadata": {},
   "source": [
    "### Prepare Training Data"
   ]
  },
  {
   "cell_type": "code",
   "execution_count": 11,
   "id": "03d5d439",
   "metadata": {},
   "outputs": [
    {
     "data": {
      "text/html": [
       "<div>\n",
       "<style scoped>\n",
       "    .dataframe tbody tr th:only-of-type {\n",
       "        vertical-align: middle;\n",
       "    }\n",
       "\n",
       "    .dataframe tbody tr th {\n",
       "        vertical-align: top;\n",
       "    }\n",
       "\n",
       "    .dataframe thead th {\n",
       "        text-align: right;\n",
       "    }\n",
       "</style>\n",
       "<table border=\"1\" class=\"dataframe\">\n",
       "  <thead>\n",
       "    <tr style=\"text-align: right;\">\n",
       "      <th></th>\n",
       "      <th>aoi_name</th>\n",
       "      <th>n</th>\n",
       "      <th>bounds</th>\n",
       "      <th>lowres_date</th>\n",
       "      <th>highres_date</th>\n",
       "      <th>area</th>\n",
       "      <th>cloud_cover</th>\n",
       "      <th>delta</th>\n",
       "      <th>lon</th>\n",
       "      <th>lat</th>\n",
       "      <th>LCCS</th>\n",
       "      <th>SMOD</th>\n",
       "      <th>IPCC Class</th>\n",
       "      <th>LCCS class</th>\n",
       "      <th>SMOD Class</th>\n",
       "    </tr>\n",
       "  </thead>\n",
       "  <tbody>\n",
       "    <tr>\n",
       "      <th>0</th>\n",
       "      <td>Amnesty POI-10-1-1</td>\n",
       "      <td>1</td>\n",
       "      <td>[105.84161265950597, 13.147748954631947, 105.8...</td>\n",
       "      <td>2019-01-06</td>\n",
       "      <td>2019-01-27</td>\n",
       "      <td>2.5</td>\n",
       "      <td>0.06</td>\n",
       "      <td>-21</td>\n",
       "      <td>105.848905</td>\n",
       "      <td>13.154895</td>\n",
       "      <td>50</td>\n",
       "      <td>11</td>\n",
       "      <td>Forest</td>\n",
       "      <td>Tree cover, broadleaved, evergreen, closed to ...</td>\n",
       "      <td>Rural: Very Low Dens</td>\n",
       "    </tr>\n",
       "    <tr>\n",
       "      <th>16</th>\n",
       "      <td>Amnesty POI-10-1-2</td>\n",
       "      <td>1</td>\n",
       "      <td>[105.84161265950597, 13.162040839281076, 105.8...</td>\n",
       "      <td>2019-01-06</td>\n",
       "      <td>2019-01-27</td>\n",
       "      <td>2.5</td>\n",
       "      <td>0.06</td>\n",
       "      <td>-21</td>\n",
       "      <td>105.848905</td>\n",
       "      <td>13.169187</td>\n",
       "      <td>50</td>\n",
       "      <td>11</td>\n",
       "      <td>Forest</td>\n",
       "      <td>Tree cover, broadleaved, evergreen, closed to ...</td>\n",
       "      <td>Rural: Very Low Dens</td>\n",
       "    </tr>\n",
       "    <tr>\n",
       "      <th>32</th>\n",
       "      <td>Amnesty POI-10-1-3</td>\n",
       "      <td>1</td>\n",
       "      <td>[105.84161265950597, 13.176332723930203, 105.8...</td>\n",
       "      <td>2019-01-06</td>\n",
       "      <td>2019-01-27</td>\n",
       "      <td>2.5</td>\n",
       "      <td>0.06</td>\n",
       "      <td>-21</td>\n",
       "      <td>105.848905</td>\n",
       "      <td>13.183479</td>\n",
       "      <td>50</td>\n",
       "      <td>11</td>\n",
       "      <td>Forest</td>\n",
       "      <td>Tree cover, broadleaved, evergreen, closed to ...</td>\n",
       "      <td>Rural: Very Low Dens</td>\n",
       "    </tr>\n",
       "    <tr>\n",
       "      <th>48</th>\n",
       "      <td>Amnesty POI-10-2-1</td>\n",
       "      <td>1</td>\n",
       "      <td>[105.8561973580532, 13.147748954631947, 105.87...</td>\n",
       "      <td>2019-01-06</td>\n",
       "      <td>2019-01-27</td>\n",
       "      <td>2.5</td>\n",
       "      <td>0.06</td>\n",
       "      <td>-21</td>\n",
       "      <td>105.863490</td>\n",
       "      <td>13.154895</td>\n",
       "      <td>50</td>\n",
       "      <td>11</td>\n",
       "      <td>Forest</td>\n",
       "      <td>Tree cover, broadleaved, evergreen, closed to ...</td>\n",
       "      <td>Rural: Very Low Dens</td>\n",
       "    </tr>\n",
       "    <tr>\n",
       "      <th>64</th>\n",
       "      <td>Amnesty POI-10-2-2</td>\n",
       "      <td>1</td>\n",
       "      <td>[105.8561973580532, 13.162040839281076, 105.87...</td>\n",
       "      <td>2019-01-06</td>\n",
       "      <td>2019-01-27</td>\n",
       "      <td>2.5</td>\n",
       "      <td>0.06</td>\n",
       "      <td>-21</td>\n",
       "      <td>105.863490</td>\n",
       "      <td>13.169187</td>\n",
       "      <td>50</td>\n",
       "      <td>11</td>\n",
       "      <td>Forest</td>\n",
       "      <td>Tree cover, broadleaved, evergreen, closed to ...</td>\n",
       "      <td>Rural: Very Low Dens</td>\n",
       "    </tr>\n",
       "  </tbody>\n",
       "</table>\n",
       "</div>"
      ],
      "text/plain": [
       "              aoi_name  n                                             bounds  \\\n",
       "0   Amnesty POI-10-1-1  1  [105.84161265950597, 13.147748954631947, 105.8...   \n",
       "16  Amnesty POI-10-1-2  1  [105.84161265950597, 13.162040839281076, 105.8...   \n",
       "32  Amnesty POI-10-1-3  1  [105.84161265950597, 13.176332723930203, 105.8...   \n",
       "48  Amnesty POI-10-2-1  1  [105.8561973580532, 13.147748954631947, 105.87...   \n",
       "64  Amnesty POI-10-2-2  1  [105.8561973580532, 13.162040839281076, 105.87...   \n",
       "\n",
       "   lowres_date highres_date  area  cloud_cover  delta         lon        lat  \\\n",
       "0   2019-01-06   2019-01-27   2.5         0.06    -21  105.848905  13.154895   \n",
       "16  2019-01-06   2019-01-27   2.5         0.06    -21  105.848905  13.169187   \n",
       "32  2019-01-06   2019-01-27   2.5         0.06    -21  105.848905  13.183479   \n",
       "48  2019-01-06   2019-01-27   2.5         0.06    -21  105.863490  13.154895   \n",
       "64  2019-01-06   2019-01-27   2.5         0.06    -21  105.863490  13.169187   \n",
       "\n",
       "    LCCS  SMOD IPCC Class                                         LCCS class  \\\n",
       "0     50    11     Forest  Tree cover, broadleaved, evergreen, closed to ...   \n",
       "16    50    11     Forest  Tree cover, broadleaved, evergreen, closed to ...   \n",
       "32    50    11     Forest  Tree cover, broadleaved, evergreen, closed to ...   \n",
       "48    50    11     Forest  Tree cover, broadleaved, evergreen, closed to ...   \n",
       "64    50    11     Forest  Tree cover, broadleaved, evergreen, closed to ...   \n",
       "\n",
       "              SMOD Class  \n",
       "0   Rural: Very Low Dens  \n",
       "16  Rural: Very Low Dens  \n",
       "32  Rural: Very Low Dens  \n",
       "48  Rural: Very Low Dens  \n",
       "64  Rural: Very Low Dens  "
      ]
     },
     "execution_count": 11,
     "metadata": {},
     "output_type": "execute_result"
    }
   ],
   "source": [
    "metadata = pd.read_csv(\"dataset/metadata.csv\")\n",
    "metadata.rename(columns={metadata.columns[0]: 'aoi_name'}, inplace=True)\n",
    "metadata.drop_duplicates(subset=['aoi_name'], keep='first', inplace=True)\n",
    "metadata.head()"
   ]
  },
  {
   "cell_type": "code",
   "execution_count": 12,
   "id": "c20d510c",
   "metadata": {},
   "outputs": [
    {
     "data": {
      "text/plain": [
       "1626"
      ]
     },
     "execution_count": 12,
     "metadata": {},
     "output_type": "execute_result"
    }
   ],
   "source": [
    "df_select = metadata[(metadata['aoi_name'].str.contains('Landcover')) & (metadata['cloud_cover'] < 0.05)]\n",
    "len(df_select)"
   ]
  },
  {
   "cell_type": "code",
   "execution_count": 13,
   "id": "b4f83468",
   "metadata": {},
   "outputs": [
    {
     "data": {
      "image/png": "[encoded data removed]",
      "text/plain": [
       "<Figure size 1000x600 with 1 Axes>"
      ]
     },
     "metadata": {},
     "output_type": "display_data"
    }
   ],
   "source": [
    "category_counts = df_select['IPCC Class'].value_counts()\n",
    "\n",
    "# Plot the frequencies as a bar plot\n",
    "plt.figure(figsize=(10, 6))\n",
    "category_counts.plot(kind='bar')\n",
    "\n",
    "# Add title and labels\n",
    "plt.title('Frequency of Each Category in Your Column')\n",
    "plt.xlabel('Category')\n",
    "plt.ylabel('Frequency')\n",
    "\n",
    "# Show the plot\n",
    "plt.show()"
   ]
  },
  {
   "cell_type": "code",
   "execution_count": 14,
   "id": "a65957ce-b1a3-49ec-ba92-9ee00b1984a3",
   "metadata": {},
   "outputs": [],
   "source": [
    "landcover_folders = []\n",
    "aoi_names_set = set(df_select['aoi_name'])\n",
    "\n",
    "# Loop over the directories in lr_dataset\n",
    "for folder_name in os.listdir(lr_dataset_path):\n",
    "    if folder_name in aoi_names_set:\n",
    "        landcover_folders.append(folder_name)\n",
    "    # Stop when 1000 folders have been added\n",
    "    if len(landcover_folders) >= 1000:\n",
    "        break\n",
    "\n",
    "#print(landcover_folders)"
   ]
  },
  {
   "cell_type": "code",
   "execution_count": null,
   "id": "7c1e79d4-a529-4e8a-bce4-a65d7e80eac9",
   "metadata": {},
   "outputs": [],
   "source": [
    "# upscale the low-resolution images\n",
    "target_size_hr = (500, 500)  # assuming the target size for SRCNN is (500, 500)\n",
    "target_size_lr = (500, 500)\n",
    "sample_images = process_aois(landcover_folders, target_size_hr, target_size_lr, num_revisits)"
   ]
  },
  {
   "cell_type": "code",
   "execution_count": null,
   "id": "cb672fe0-d8d3-49af-a736-df01d526557e",
   "metadata": {},
   "outputs": [],
   "source": [
    "# Observe the loaded images in the dataset\n",
    "for i in range(20):\n",
    "    plt.figure(figsize=(20,20))\n",
    "    plt.subplot(1,2,1)\n",
    "    plt.title('High Resolution Image', color = 'green', fontsize = 20)\n",
    "    plt.imshow(sample_images[landcover_folders[i]][1][0])\n",
    "    plt.subplot(1,2,2)\n",
    "    plt.title('Low Resolution Image', color = 'red', fontsize = 20)\n",
    "    plt.imshow(sample_images[landcover_folders[i]][0][0])"
   ]
  },
  {
   "cell_type": "markdown",
   "id": "e9ac764a-dfd8-422e-8eea-71975b87f780",
   "metadata": {},
   "source": [
    "### Prepare Train, Test, and Validation"
   ]
  },
  {
   "cell_type": "code",
   "execution_count": 18,
   "id": "67a8642d",
   "metadata": {},
   "outputs": [
    {
     "name": "stdout",
     "output_type": "stream",
     "text": [
      "Shape of training images: (800, 500, 500, 3)\n",
      "Shape of test images: (100, 500, 500, 3)\n",
      "Shape of validation images: (100, 500, 500, 3)\n",
      "Shape of training low images: (800, 500, 500, 3)\n",
      "Shape of test low images: (100, 500, 500, 3)\n",
      "Shape of validation low images: (100, 500, 500, 3)\n"
     ]
    }
   ],
   "source": [
    "# Collect all high-res and low-res images from sample_images\n",
    "all_high_images = []\n",
    "all_low_images = []\n",
    "\n",
    "for aoi_name in sample_images:\n",
    "    all_low_images.extend(sample_images[aoi_name][0])  # Low-resolution images\n",
    "    all_high_images.extend(sample_images[aoi_name][1])  # High-resolution images\n",
    "\n",
    "# Convert lists to numpy arrays\n",
    "all_high_images = np.array(all_high_images)\n",
    "all_low_images = np.array(all_low_images)\n",
    "\n",
    "# Split the data into train, validation, and test sets\n",
    "train_high_image = all_high_images[:800]\n",
    "train_low_image = all_low_images[:800]\n",
    "\n",
    "validation_high_image = all_high_images[800:900]\n",
    "validation_low_image = all_low_images[800:900]\n",
    "\n",
    "test_high_image = all_high_images[900:]\n",
    "test_low_image = all_low_images[900:]\n",
    "\n",
    "# Print the shapes to verify\n",
    "print(\"Shape of training images:\", train_high_image.shape)\n",
    "print(\"Shape of test images:\", test_high_image.shape)\n",
    "print(\"Shape of validation images:\", validation_high_image.shape)\n",
    "\n",
    "print(\"Shape of training low images:\", train_low_image.shape)\n",
    "print(\"Shape of test low images:\", test_low_image.shape)\n",
    "print(\"Shape of validation low images:\", validation_low_image.shape)"
   ]
  },
  {
   "cell_type": "markdown",
   "id": "d3829fcc-82f2-4807-8bcd-20c2d664c0b2",
   "metadata": {},
   "source": [
    "### MODEL"
   ]
  },
  {
   "cell_type": "code",
   "execution_count": 19,
   "id": "7406fdf1-5b02-4878-bd7e-c4c2b5ce7eb5",
   "metadata": {},
   "outputs": [],
   "source": [
    "from keras import layers\n",
    "from tensorflow.keras.utils import plot_model"
   ]
  },
  {
   "cell_type": "code",
   "execution_count": 20,
   "id": "62299810-24d2-494e-bbaa-e3cc2d0221ba",
   "metadata": {},
   "outputs": [
    {
     "name": "stderr",
     "output_type": "stream",
     "text": [
      "2024-07-29 21:49:41.358448: I metal_plugin/src/device/metal_device.cc:1154] Metal device set to: Apple M1 Pro\n",
      "2024-07-29 21:49:41.361018: I metal_plugin/src/device/metal_device.cc:296] systemMemory: 16.00 GB\n",
      "2024-07-29 21:49:41.361034: I metal_plugin/src/device/metal_device.cc:313] maxCacheSize: 5.33 GB\n",
      "2024-07-29 21:49:41.361595: I tensorflow/core/common_runtime/pluggable_device/pluggable_device_factory.cc:303] Could not identify NUMA node of platform GPU ID 0, defaulting to 0. Your kernel may not have been built with NUMA support.\n",
      "2024-07-29 21:49:41.362077: I tensorflow/core/common_runtime/pluggable_device/pluggable_device_factory.cc:269] Created TensorFlow device (/job:localhost/replica:0/task:0/device:GPU:0 with 0 MB memory) -> physical PluggableDevice (device: 0, name: METAL, pci bus id: <undefined>)\n"
     ]
    },
    {
     "name": "stdout",
     "output_type": "stream",
     "text": [
      "Model: \"model\"\n",
      "_________________________________________________________________\n",
      " Layer (type)                Output Shape              Param #   \n",
      "=================================================================\n",
      " input_1 (InputLayer)        [(None, 500, 500, 3)]     0         \n",
      "                                                                 \n",
      " conv2d (Conv2D)             (None, 500, 500, 64)      15616     \n",
      "                                                                 \n",
      " conv2d_1 (Conv2D)           (None, 500, 500, 32)      2080      \n",
      "                                                                 \n",
      " conv2d_2 (Conv2D)           (None, 500, 500, 3)       2403      \n",
      "                                                                 \n",
      "=================================================================\n",
      "Total params: 20099 (78.51 KB)\n",
      "Trainable params: 20099 (78.51 KB)\n",
      "Non-trainable params: 0 (0.00 Byte)\n",
      "_________________________________________________________________\n",
      "You must install pydot (`pip install pydot`) and install graphviz (see instructions at https://graphviz.gitlab.io/download/) for plot_model to work.\n"
     ]
    }
   ],
   "source": [
    "input_img=Input(shape=(500,500,3))\n",
    "l1=tf.keras.layers.Conv2D(64,9,padding='same',activation='relu') (input_img)\n",
    "l2=tf.keras.layers.Conv2D(32,1,padding='same',activation='relu') (l1)\n",
    "l3=tf.keras.layers.Conv2D(3,5,padding='same',activation='relu') (l2)\n",
    "\n",
    "SRCNN=Model(input_img,l3)\n",
    "\n",
    "def pixel_mse_loss(x,y):\n",
    "    return tf.reduce_mean( (x - y) ** 2 )\n",
    "\n",
    "SRCNN.compile(optimizer=tf.keras.optimizers.legacy.Adam(0.001),loss=pixel_mse_loss)\n",
    "# SRCNN.compile(optimizer=tf.keras.optimizers.Adam(0.001),loss=pixel_mse_loss)\n",
    "\n",
    "SRCNN.summary()\n",
    "\n",
    "plot_model(SRCNN, to_file ='super_res.png',show_shapes=True)"
   ]
  },
  {
   "cell_type": "markdown",
   "id": "08722451-d6f0-460e-b647-1b99213358f1",
   "metadata": {},
   "source": [
    "### Training"
   ]
  },
  {
   "cell_type": "code",
   "execution_count": 21,
   "id": "fdd5e9db-87c2-455c-bf32-ff9335cb77dc",
   "metadata": {},
   "outputs": [
    {
     "name": "stdout",
     "output_type": "stream",
     "text": [
      "Epoch 1/50\n"
     ]
    },
    {
     "name": "stderr",
     "output_type": "stream",
     "text": [
      "2024-07-29 21:50:51.954773: I tensorflow/core/grappler/optimizers/custom_graph_optimizer_registry.cc:114] Plugin optimizer for device_type GPU is enabled.\n"
     ]
    },
    {
     "name": "stdout",
     "output_type": "stream",
     "text": [
      "80/80 [==============================] - ETA: 0s - loss: 0.0173"
     ]
    },
    {
     "name": "stderr",
     "output_type": "stream",
     "text": [
      "2024-07-29 21:51:29.765821: I tensorflow/core/grappler/optimizers/custom_graph_optimizer_registry.cc:114] Plugin optimizer for device_type GPU is enabled.\n"
     ]
    },
    {
     "name": "stdout",
     "output_type": "stream",
     "text": [
      "80/80 [==============================] - 41s 486ms/step - loss: 0.0173 - val_loss: 0.0130\n",
      "Epoch 2/50\n",
      "80/80 [==============================] - 38s 469ms/step - loss: 0.0133 - val_loss: 0.0138\n",
      "Epoch 3/50\n",
      "80/80 [==============================] - 38s 470ms/step - loss: 0.0134 - val_loss: 0.0134\n",
      "Epoch 4/50\n",
      "80/80 [==============================] - 39s 483ms/step - loss: 0.0135 - val_loss: 0.0127\n",
      "Epoch 5/50\n",
      "80/80 [==============================] - 38s 477ms/step - loss: 0.0131 - val_loss: 0.0123\n",
      "Epoch 6/50\n",
      "80/80 [==============================] - 38s 471ms/step - loss: 0.0134 - val_loss: 0.0126\n",
      "Epoch 7/50\n",
      "80/80 [==============================] - 38s 471ms/step - loss: 0.0136 - val_loss: 0.0126\n",
      "Epoch 8/50\n",
      "80/80 [==============================] - 38s 478ms/step - loss: 0.0134 - val_loss: 0.0126\n",
      "Epoch 9/50\n",
      "80/80 [==============================] - 38s 476ms/step - loss: 0.0127 - val_loss: 0.0135\n",
      "Epoch 10/50\n",
      "80/80 [==============================] - 38s 474ms/step - loss: 0.0129 - val_loss: 0.0134\n",
      "Epoch 11/50\n",
      "80/80 [==============================] - 38s 477ms/step - loss: 0.0140 - val_loss: 0.0124\n",
      "Epoch 12/50\n",
      "80/80 [==============================] - 38s 477ms/step - loss: 0.0136 - val_loss: 0.0122\n",
      "Epoch 13/50\n",
      "80/80 [==============================] - 38s 476ms/step - loss: 0.0125 - val_loss: 0.0132\n",
      "Epoch 14/50\n",
      "80/80 [==============================] - 38s 479ms/step - loss: 0.0125 - val_loss: 0.0123\n",
      "Epoch 15/50\n",
      "80/80 [==============================] - 38s 475ms/step - loss: 0.0124 - val_loss: 0.0139\n",
      "Epoch 16/50\n",
      "80/80 [==============================] - 38s 475ms/step - loss: 0.0119 - val_loss: 0.0127\n",
      "Epoch 17/50\n",
      "80/80 [==============================] - 38s 471ms/step - loss: 0.0119 - val_loss: 0.0117\n",
      "Epoch 18/50\n",
      "80/80 [==============================] - 38s 475ms/step - loss: 0.0124 - val_loss: 0.0143\n",
      "Epoch 19/50\n",
      "80/80 [==============================] - 38s 478ms/step - loss: 0.0135 - val_loss: 0.0124\n",
      "Epoch 20/50\n",
      "80/80 [==============================] - 38s 476ms/step - loss: 0.0120 - val_loss: 0.0128\n",
      "Epoch 21/50\n",
      "80/80 [==============================] - 38s 476ms/step - loss: 0.0123 - val_loss: 0.0123\n",
      "Epoch 22/50\n",
      "80/80 [==============================] - 38s 474ms/step - loss: 0.0121 - val_loss: 0.0125\n",
      "Epoch 23/50\n",
      "80/80 [==============================] - 37s 469ms/step - loss: 0.0117 - val_loss: 0.0121\n",
      "Epoch 24/50\n",
      "80/80 [==============================] - 38s 474ms/step - loss: 0.0116 - val_loss: 0.0123\n",
      "Epoch 25/50\n",
      "80/80 [==============================] - 38s 471ms/step - loss: 0.0128 - val_loss: 0.0124\n",
      "Epoch 26/50\n",
      "80/80 [==============================] - 37s 468ms/step - loss: 0.0117 - val_loss: 0.0128\n",
      "Epoch 27/50\n",
      "80/80 [==============================] - 38s 482ms/step - loss: 0.0118 - val_loss: 0.0116\n",
      "Epoch 28/50\n",
      "80/80 [==============================] - 38s 472ms/step - loss: 0.0119 - val_loss: 0.0136\n",
      "Epoch 29/50\n",
      "80/80 [==============================] - 38s 474ms/step - loss: 0.0119 - val_loss: 0.0117\n",
      "Epoch 30/50\n",
      "80/80 [==============================] - 38s 480ms/step - loss: 0.0117 - val_loss: 0.0139\n",
      "Epoch 31/50\n",
      "80/80 [==============================] - 38s 480ms/step - loss: 0.0117 - val_loss: 0.0120\n",
      "Epoch 32/50\n",
      "80/80 [==============================] - 38s 477ms/step - loss: 0.0119 - val_loss: 0.0122\n",
      "Epoch 33/50\n",
      "80/80 [==============================] - 38s 478ms/step - loss: 0.0116 - val_loss: 0.0139\n",
      "Epoch 34/50\n",
      "80/80 [==============================] - 38s 472ms/step - loss: 0.0115 - val_loss: 0.0116\n",
      "Epoch 35/50\n",
      "80/80 [==============================] - 38s 478ms/step - loss: 0.0120 - val_loss: 0.0120\n",
      "Epoch 36/50\n",
      "80/80 [==============================] - 39s 483ms/step - loss: 0.0115 - val_loss: 0.0122\n",
      "Epoch 37/50\n",
      "80/80 [==============================] - 38s 480ms/step - loss: 0.0115 - val_loss: 0.0117\n",
      "Epoch 38/50\n",
      "80/80 [==============================] - 38s 475ms/step - loss: 0.0121 - val_loss: 0.0121\n",
      "Epoch 39/50\n",
      "80/80 [==============================] - 39s 482ms/step - loss: 0.0114 - val_loss: 0.0117\n",
      "Epoch 40/50\n",
      "80/80 [==============================] - 38s 472ms/step - loss: 0.0114 - val_loss: 0.0120\n",
      "Epoch 41/50\n",
      "80/80 [==============================] - 38s 473ms/step - loss: 0.0115 - val_loss: 0.0120\n",
      "Epoch 42/50\n",
      "80/80 [==============================] - 38s 470ms/step - loss: 0.0120 - val_loss: 0.0134\n",
      "Epoch 43/50\n",
      "80/80 [==============================] - 38s 480ms/step - loss: 0.0115 - val_loss: 0.0117\n",
      "Epoch 44/50\n",
      "80/80 [==============================] - 38s 474ms/step - loss: 0.0117 - val_loss: 0.0117\n",
      "Epoch 45/50\n",
      "80/80 [==============================] - 38s 474ms/step - loss: 0.0121 - val_loss: 0.0126\n",
      "Epoch 46/50\n",
      "80/80 [==============================] - 38s 479ms/step - loss: 0.0114 - val_loss: 0.0130\n",
      "Epoch 47/50\n",
      "80/80 [==============================] - 38s 472ms/step - loss: 0.0116 - val_loss: 0.0117\n",
      "Epoch 48/50\n",
      "80/80 [==============================] - 38s 477ms/step - loss: 0.0111 - val_loss: 0.0119\n",
      "Epoch 49/50\n",
      "80/80 [==============================] - 38s 480ms/step - loss: 0.0111 - val_loss: 0.0118\n",
      "Epoch 50/50\n",
      "80/80 [==============================] - 38s 480ms/step - loss: 0.0110 - val_loss: 0.0124\n"
     ]
    },
    {
     "data": {
      "text/plain": [
       "<keras.src.callbacks.History at 0x178135100>"
      ]
     },
     "execution_count": 21,
     "metadata": {},
     "output_type": "execute_result"
    }
   ],
   "source": [
    "SRCNN.fit(\n",
    "    train_low_image,\n",
    "    train_high_image,\n",
    "    epochs = 50,\n",
    "    batch_size = 10,\n",
    "    validation_data = (validation_low_image,validation_high_image)\n",
    ")"
   ]
  },
  {
   "cell_type": "markdown",
   "id": "62c03542-6cf7-4c14-95d7-f073f9e50fe0",
   "metadata": {
    "scrolled": true
   },
   "source": [
    "### Define Image Quality Metrics"
   ]
  },
  {
   "cell_type": "code",
   "execution_count": 23,
   "id": "720bca87-129a-488a-af51-f0aabdce54eb",
   "metadata": {},
   "outputs": [],
   "source": [
    "from skimage.metrics import structural_similarity as ssim\n",
    "import math\n",
    "\n",
    "def psnr(target, ref):\n",
    "    \"\"\"\n",
    "    Compute the Peak Signal-to-Noise Ratio (PSNR) between two images.\n",
    "\n",
    "    PSNR is used to measure the quality of reconstruction of lossy compression codecs.\n",
    "    The signal is the original data, and the noise is the error introduced by compression.\n",
    "\n",
    "    Args:\n",
    "        target (numpy.ndarray): The target (reference) image.\n",
    "        ref (numpy.ndarray): The reference image to compare against.\n",
    "\n",
    "    Returns:\n",
    "        float: The PSNR value in decibels (dB).\n",
    "\n",
    "    \"\"\"\n",
    "    target_data = target.astype(float)\n",
    "    ref_data = ref.astype(float)\n",
    "    \n",
    "    diff = ref_data-target_data\n",
    "    diff = diff.flatten('C') # need ot flatten so computations can be done\n",
    "    \n",
    "    rmse = math.sqrt(np.mean(diff**2.))\n",
    "    \n",
    "    return 20 * math.log10(255./rmse)\n",
    "\n",
    "\n",
    "def mse(target,ref):\n",
    "    \"\"\"\n",
    "    Compute the Mean Squared Error (MSE) between two images.\n",
    "\n",
    "    MSE is a risk function corresponding to the expected value of the squared error loss.\n",
    "    It is used to measure the average of the squares of the errors, i.e., the average squared difference\n",
    "    between the estimated values and the actual value.\n",
    "\n",
    "    Args:\n",
    "        target (numpy.ndarray): The target (reference) image.\n",
    "        ref (numpy.ndarray): The reference image to compare against.\n",
    "\n",
    "    Returns:\n",
    "        float: The MSE value.\n",
    "\n",
    "    \"\"\"\n",
    "    err=np.sum((target.astype('float')-ref.astype('float'))**2)\n",
    "    err=err/float(target.shape[0]*target.shape[1]) # divided by total number of pixels\n",
    "    \n",
    "    return err\n",
    "\n",
    "\n",
    "def compare_images(target,ref):\n",
    "    \"\"\"\n",
    "    Compute the PSNR, MSE, and SSIM between two images.\n",
    "\n",
    "    This function combines three image quality metrics:\n",
    "    - Peak Signal-to-Noise Ratio (PSNR)\n",
    "    - Mean Squared Error (MSE)\n",
    "    - Structural Similarity Index (SSIM)\n",
    "\n",
    "    Args:\n",
    "        target (numpy.ndarray): The target (reference) image.\n",
    "        ref (numpy.ndarray): The reference image to compare against.\n",
    "\n",
    "    Returns:\n",
    "        list: A list containing the PSNR, MSE, and SSIM values, respectively.\n",
    "\n",
    "    \"\"\"\n",
    "    scores=[\n",
    "        psnr(target, ref),\n",
    "        mse(target, ref),\n",
    "        ssim(target, ref, win_size=11, channel_axis=2, data_range=255)\n",
    "    ]\n",
    "\n",
    "    return scores\n"
   ]
  },
  {
   "cell_type": "markdown",
   "id": "8e4665d4-2864-4f4a-91a8-0279e0155710",
   "metadata": {},
   "source": [
    "### Testing"
   ]
  },
  {
   "cell_type": "code",
   "execution_count": 24,
   "id": "bd958a01-5102-47d4-acec-5cf8809da750",
   "metadata": {},
   "outputs": [
    {
     "name": "stderr",
     "output_type": "stream",
     "text": [
      "2024-07-29 22:26:41.080392: I tensorflow/core/grappler/optimizers/custom_graph_optimizer_registry.cc:114] Plugin optimizer for device_type GPU is enabled.\n"
     ]
    },
    {
     "name": "stdout",
     "output_type": "stream",
     "text": [
      "4/4 [==============================] - 3s 614ms/step\n"
     ]
    }
   ],
   "source": [
    "pred_image = SRCNN.predict(test_low_image)"
   ]
  },
  {
   "cell_type": "code",
   "execution_count": 25,
   "id": "40593c9a-9aa7-46f9-963b-9d90e0d0f9e3",
   "metadata": {},
   "outputs": [],
   "source": [
    "# Post-process predictions\n",
    "pred_image *= 255\n",
    "pred_image = pred_image.astype(np.uint8)"
   ]
  },
  {
   "cell_type": "code",
   "execution_count": 26,
   "id": "c1b14092-aa3e-4c8f-8247-dcb69443baec",
   "metadata": {},
   "outputs": [],
   "source": [
    "# Initialize list to hold scores for all images\n",
    "pred_scores = []\n",
    "original_scores = []\n",
    "\n",
    "# Iterate over each image to compute the quality metrics\n",
    "for i in range(len(test_low_image)):\n",
    "    pred = pred_image[i]\n",
    "    original = test_low_image[i] * 255\n",
    "    truth = test_high_image[i] * 255\n",
    "\n",
    "    pred_scores.append(compare_images(pred, truth))\n",
    "    original_scores.append(compare_images(original, truth))"
   ]
  },
  {
   "cell_type": "markdown",
   "id": "b802a844-9064-425e-bae7-ceafb975f587",
   "metadata": {},
   "source": [
    "### Visualize the results"
   ]
  },
  {
   "cell_type": "code",
   "execution_count": null,
   "id": "45f156e9-4ee5-48e2-8c27-b0872f06883b",
   "metadata": {},
   "outputs": [],
   "source": [
    "for i in range(len(test_low_image)):\n",
    "    fig, axs = plt.subplots(1, 3, figsize=(20, 8))\n",
    "    \n",
    "    axs[0].imshow(test_low_image[i])\n",
    "    axs[0].set_title('Low Resolution')\n",
    "    axs[0].set(xlabel = 'PSNR: {}\\nMSE: {} \\nSSIM: {}'.format(original_scores[i][0], original_scores[i][1], original_scores[i][2]))\n",
    "\n",
    "    axs[1].imshow(pred_image[i])\n",
    "    axs[1].set_title('High Resolution (SRCNN)')\n",
    "    axs[1].set(xlabel = 'PSNR: {}\\nMSE: {} \\nSSIM: {}'.format(pred_scores[i][0], pred_scores[i][1], pred_scores[i][2]))\n",
    "\n",
    "    axs[2].imshow(test_high_image[i])\n",
    "    axs[2].set_title('High Resolution')"
   ]
  },
  {
   "cell_type": "markdown",
   "id": "a7aee49a-c783-4037-b1a1-412659c377da",
   "metadata": {},
   "source": [
    "### Effectiveness\n",
    "Compare the PSNR/MSE/SSIM of the original low-resolution image and the processed images generated by the model"
   ]
  },
  {
   "cell_type": "code",
   "execution_count": 29,
   "id": "514043ff-cc0a-40ca-9200-7f5f46cac1fb",
   "metadata": {},
   "outputs": [],
   "source": [
    "# Extract PSNR, MSE, and SSIM for plotting\n",
    "original_psnr = [score[0] for score in original_scores]\n",
    "original_mse = [score[1] for score in original_scores]\n",
    "original_ssim = [score[2] for score in original_scores]\n",
    "pred_psnr = [score[0] for score in pred_scores]\n",
    "pred_mse = [score[1] for score in pred_scores]\n",
    "pred_ssim = [score[2] for score in pred_scores]\n",
    "\n",
    "# Calculate percentage increase\n",
    "psnr_increase = [(p - o) / o * 100 for p, o in zip(pred_psnr, original_psnr)]\n",
    "mse_increase = [(p - o) / o * 100 for p, o in zip(pred_mse, original_mse)]\n",
    "ssim_increase = [(p - o) / o * 100 for p, o in zip(pred_ssim, original_ssim)]\n",
    "\n",
    "# Number of test images\n",
    "num_images = len(original_scores)\n",
    "image_indices = range(num_images)"
   ]
  },
  {
   "cell_type": "code",
   "execution_count": null,
   "id": "50cfb7db-d04a-4925-907a-e6984ec7c5b9",
   "metadata": {},
   "outputs": [],
   "source": [
    "# Plot percentage increase for PSNR\n",
    "plt.figure(figsize=(14, 6))\n",
    "plt.bar(image_indices, psnr_increase, color='blue')\n",
    "plt.xlabel('Test Image Index')\n",
    "plt.ylabel('Percentage Increase (%)')\n",
    "plt.title('Percentage Change in PSNR')\n",
    "plt.show()\n",
    "# Plot PSNR comparison\n",
    "plt.figure(figsize=(12, 6))\n",
    "plt.plot(range(num_images), original_psnr, label='Original Low-Res PSNR', marker='o')\n",
    "plt.plot(range(num_images), pred_psnr, label='Generated High-Res PSNR', marker='x')\n",
    "plt.xlabel('Test Image Index')\n",
    "plt.ylabel('PSNR')\n",
    "plt.title('PSNR Comparison')\n",
    "plt.legend()\n",
    "plt.show()"
   ]
  },
  {
   "cell_type": "code",
   "execution_count": null,
   "id": "f713bda4-5185-49e8-9506-544d4be158f8",
   "metadata": {},
   "outputs": [],
   "source": [
    "# Plot percentage increase for MSE\n",
    "plt.figure(figsize=(14, 6))\n",
    "plt.bar(image_indices, mse_increase, color='green')\n",
    "plt.xlabel('Test Image Index')\n",
    "plt.ylabel('Percentage Increase (%)')\n",
    "plt.title('Percentage Change in MSE')\n",
    "plt.show()\n",
    "# Plot MSE comparison\n",
    "plt.figure(figsize=(12, 6))\n",
    "plt.plot(range(num_images), original_mse, label='Original Low-Res MSE', marker='o')\n",
    "plt.plot(range(num_images), pred_mse, label='Generated High-Res MSE', marker='x')\n",
    "plt.xlabel('Test Image Index')\n",
    "plt.ylabel('MSE')\n",
    "plt.title('MSE Comparison')\n",
    "plt.legend()\n",
    "plt.show()"
   ]
  },
  {
   "cell_type": "code",
   "execution_count": null,
   "id": "4166340d-5d55-4fc9-ba11-1a16eed560ab",
   "metadata": {},
   "outputs": [],
   "source": [
    "# Plot percentage increase for SSIM\n",
    "plt.figure(figsize=(14, 6))\n",
    "plt.bar(image_indices, ssim_increase, color='purple')\n",
    "plt.xlabel('Test Image Index')\n",
    "plt.ylabel('Percentage Increase (%)')\n",
    "plt.title('Percentage Change in SSIM')\n",
    "plt.show()\n",
    "# Plot SSIM comparison\n",
    "plt.figure(figsize=(12, 6))\n",
    "plt.plot(range(num_images), original_ssim, label='Original Low-Res SSIM', marker='o')\n",
    "plt.plot(range(num_images), pred_ssim, label='Generated High-Res SSIM', marker='x')\n",
    "plt.xlabel('Test Image Index')\n",
    "plt.ylabel('SSIM')\n",
    "plt.title('SSIM Comparison')\n",
    "plt.legend()\n",
    "plt.show()"
   ]
  }
 ],
 "metadata": {
  "kernelspec": {
   "display_name": "Python 3 (ipykernel)",
   "language": "python",
   "name": "python3"
  },
  "language_info": {
   "codemirror_mode": {
    "name": "ipython",
    "version": 3
   },
   "file_extension": ".py",
   "mimetype": "text/x-python",
   "name": "python",
   "nbconvert_exporter": "python",
   "pygments_lexer": "ipython3",
   "version": "3.8.10"
  }
 },
 "nbformat": 4,
 "nbformat_minor": 5
}
